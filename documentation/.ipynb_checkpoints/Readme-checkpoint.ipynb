{
 "cells": [
  {
   "cell_type": "markdown",
   "metadata": {},
   "source": [
    "![PharmaFlaskCover](https://user-images.githubusercontent.com/43243319/110015281-4d3d0180-7ce9-11eb-9cf8-4599af87cd27.png)\n",
    "\n",
    "## Antonio Torres\n",
    "\n",
    "PharmaFlask es un sistema de gestión de productos, especializado en la gestión de productos farmaceúticos. Cuenta con tres módulos completos: Productos, Proveedores y gestión de sintomas. \n",
    "\n",
    "La aplicación está desarrollada usando el lenguaje de programación python, con el framework web Flask, usando el SGBD PostgreSQL. "
   ]
  }
 ],
 "metadata": {
  "kernelspec": {
   "display_name": "Python 3",
   "language": "python",
   "name": "python3"
  },
  "language_info": {
   "codemirror_mode": {
    "name": "ipython",
    "version": 3
   },
   "file_extension": ".py",
   "mimetype": "text/x-python",
   "name": "python",
   "nbconvert_exporter": "python",
   "pygments_lexer": "ipython3",
   "version": "3.8.5"
  }
 },
 "nbformat": 4,
 "nbformat_minor": 4
}
