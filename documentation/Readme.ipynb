{
 "cells": [
  {
   "cell_type": "markdown",
   "metadata": {},
   "source": [
    "![PharmaFlaskCover](https://user-images.githubusercontent.com/43243319/110015281-4d3d0180-7ce9-11eb-9cf8-4599af87cd27.png)\n",
    "\n",
    "\n",
    "PharmaFlask es un sistema de gestión de productos, especializado en la gestión de productos farmaceúticos. Cuenta con tres módulos completos: Productos, Proveedores y gestión de sintomas. \n",
    "\n",
    "La aplicación está desarrollada usando el lenguaje de programación python, con el framework web Flask, usando el SGBD PostgreSQL. \n",
    "\n",
    "# Gestión de productos\n",
    "## Index\n",
    "![Index productos](https://user-images.githubusercontent.com/43243319/110015453-7d84a000-7ce9-11eb-8d93-49ded7de7999.png)\n",
    "\n",
    "## Formulario de registro\n",
    "\n",
    "![Registro productos](https://user-images.githubusercontent.com/43243319/110015761-dce2b000-7ce9-11eb-86e7-a3f1c62c965e.png)\n",
    "\n",
    "# Requerimientos\n",
    "\n",
    "- Servidor posgreSQL\n",
    "- Python version 3.x\n",
    "\n",
    "# Instalación\n",
    "\n",
    "## Proyecto\n",
    "Clone este repositorio con el comando:"
   ]
  },
  {
   "cell_type": "code",
   "execution_count": null,
   "metadata": {},
   "outputs": [],
   "source": [
    "git clone https://github.com/antoniotorresz/PharmaFlask.git"
   ]
  },
  {
   "cell_type": "markdown",
   "metadata": {},
   "source": [
    "Cree el entorno virtual para el proyecto con el comando: "
   ]
  },
  {
   "cell_type": "code",
   "execution_count": null,
   "metadata": {},
   "outputs": [],
   "source": [
    "virtualenv venv"
   ]
  },
  {
   "cell_type": "markdown",
   "metadata": {},
   "source": [
    "Active el entorno virtual con el comando: "
   ]
  },
  {
   "cell_type": "code",
   "execution_count": null,
   "metadata": {},
   "outputs": [],
   "source": [
    "source venv/bin/activate"
   ]
  },
  {
   "cell_type": "markdown",
   "metadata": {},
   "source": [
    "Una vez dentro del entorno virtual, agregue las librerias necesarias usando pip, ejecute el siguiente comando: "
   ]
  },
  {
   "cell_type": "code",
   "execution_count": null,
   "metadata": {},
   "outputs": [],
   "source": [
    "pip install -r requirements.txt"
   ]
  },
  {
   "cell_type": "markdown",
   "metadata": {},
   "source": [
    "## Base de datos\n",
    "Ejecute el archivo *database.sql* en una consola de postgres con herramientas como [PgAdmin](https://www.pgadmin.org/), [Datagrip](https://www.jetbrains.com/es-es/datagrip/) o [Dbeaver](https://dbeaver.io/)\n",
    "\n",
    "\n",
    "Al ejecutar correctamente las instrucciones se generará la siguiente base de datos: \n",
    "\n",
    "![farmacia_ER](https://user-images.githubusercontent.com/43243319/110026497-52547d80-7cf6-11eb-9c62-7ac7464ac938.png)\n",
    "\n",
    "# Iniciar servidor flask\n",
    "Para iniciar el servidor flask, y a su vez ejecutar la aplicación ejecute el siguente comando en la raíz del proyecto: "
   ]
  },
  {
   "cell_type": "code",
   "execution_count": null,
   "metadata": {},
   "outputs": [],
   "source": [
    "python app.py"
   ]
  }
 ],
 "metadata": {
  "kernelspec": {
   "display_name": "Python 3",
   "language": "python",
   "name": "python3"
  },
  "language_info": {
   "codemirror_mode": {
    "name": "ipython",
    "version": 3
   },
   "file_extension": ".py",
   "mimetype": "text/x-python",
   "name": "python",
   "nbconvert_exporter": "python",
   "pygments_lexer": "ipython3",
   "version": "3.8.5"
  }
 },
 "nbformat": 4,
 "nbformat_minor": 4
}
